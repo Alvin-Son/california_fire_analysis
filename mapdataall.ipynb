{
 "cells": [
  {
   "cell_type": "code",
   "execution_count": 28,
   "id": "5f6ec0cf",
   "metadata": {},
   "outputs": [],
   "source": [
    "import pandas as pd\n",
    "from pathlib import Path\n",
    "\n",
    "file_path=Path(\"Resources/fire_data/mapdataall.csv\")\n",
    "df=pd.read_csv(file_path, encoding=\"utf-8\")\n",
    "\n",
    "#df.head()"
   ]
  },
  {
   "cell_type": "code",
   "execution_count": 29,
   "id": "429bb8f8",
   "metadata": {},
   "outputs": [],
   "source": [
    "#gather list of original columns\n",
    "#list(df.columns)"
   ]
  },
  {
   "cell_type": "code",
   "execution_count": 30,
   "id": "ca16c5ce",
   "metadata": {},
   "outputs": [
    {
     "name": "stdout",
     "output_type": "stream",
     "text": [
      "<class 'pandas.core.frame.DataFrame'>\n",
      "RangeIndex: 2198 entries, 0 to 2197\n",
      "Data columns (total 8 columns):\n",
      " #   Column             Non-Null Count  Dtype  \n",
      "---  ------             --------------  -----  \n",
      " 0   name               2198 non-null   object \n",
      " 1   admin unit         2186 non-null   object \n",
      " 2   county             2188 non-null   object \n",
      " 3   acres burned       2148 non-null   float64\n",
      " 4   lon                2198 non-null   float64\n",
      " 5   lat                2198 non-null   float64\n",
      " 6   date extinguished  1975 non-null   object \n",
      " 7   date created       2198 non-null   object \n",
      "dtypes: float64(3), object(5)\n",
      "memory usage: 137.5+ KB\n"
     ]
    }
   ],
   "source": [
    "#create new data frame with select columns\n",
    "fire_df = df[['incident_name',\n",
    " 'incident_administrative_unit',\n",
    " 'incident_county',\n",
    " 'incident_acres_burned',\n",
    " 'incident_longitude',\n",
    " 'incident_latitude',\n",
    " 'incident_dateonly_extinguished',\n",
    " 'incident_dateonly_created'\n",
    "]]\n",
    "\n",
    "#rename columns\n",
    "fire_incidents_df = fire_df.rename(columns={\n",
    "    'incident_name': \"name\",\n",
    "     'incident_administrative_unit': \"admin unit\",\n",
    "     'incident_county': \"county\",\n",
    "     'incident_acres_burned': \"acres burned\" ,\n",
    "     'incident_longitude': \"lon\",\n",
    "     'incident_latitude': \"lat\",\n",
    "     'incident_dateonly_extinguished': \"date extinguished\",\n",
    "     'incident_dateonly_created': \"date created\"\n",
    "})\n",
    "\n",
    "#fire_incidents_df.head()\n",
    "fire_incidents_df.info()"
   ]
  },
  {
   "cell_type": "code",
   "execution_count": 33,
   "id": "b8eb0013",
   "metadata": {},
   "outputs": [
    {
     "name": "stderr",
     "output_type": "stream",
     "text": [
      "/var/folders/_7/hzy3hwcs7q72sm8v1h1k2rq80000gn/T/ipykernel_6817/164853287.py:5: SettingWithCopyWarning: \n",
      "A value is trying to be set on a copy of a slice from a DataFrame.\n",
      "Try using .loc[row_indexer,col_indexer] = value instead\n",
      "\n",
      "See the caveats in the documentation: https://pandas.pydata.org/pandas-docs/stable/user_guide/indexing.html#returning-a-view-versus-a-copy\n",
      "  fire_incidents['date extinguished'] = pd.to_datetime(fire_incidents['date extinguished'])\n",
      "/var/folders/_7/hzy3hwcs7q72sm8v1h1k2rq80000gn/T/ipykernel_6817/164853287.py:6: SettingWithCopyWarning: \n",
      "A value is trying to be set on a copy of a slice from a DataFrame.\n",
      "Try using .loc[row_indexer,col_indexer] = value instead\n",
      "\n",
      "See the caveats in the documentation: https://pandas.pydata.org/pandas-docs/stable/user_guide/indexing.html#returning-a-view-versus-a-copy\n",
      "  fire_incidents['date created'] = pd.to_datetime(fire_incidents['date created'])\n",
      "/var/folders/_7/hzy3hwcs7q72sm8v1h1k2rq80000gn/T/ipykernel_6817/164853287.py:9: SettingWithCopyWarning: \n",
      "A value is trying to be set on a copy of a slice from a DataFrame.\n",
      "Try using .loc[row_indexer,col_indexer] = value instead\n",
      "\n",
      "See the caveats in the documentation: https://pandas.pydata.org/pandas-docs/stable/user_guide/indexing.html#returning-a-view-versus-a-copy\n",
      "  fire_incidents['duration'] = fire_incidents['date extinguished'] - fire_incidents['date created']\n"
     ]
    },
    {
     "data": {
      "text/html": [
       "<div>\n",
       "<style scoped>\n",
       "    .dataframe tbody tr th:only-of-type {\n",
       "        vertical-align: middle;\n",
       "    }\n",
       "\n",
       "    .dataframe tbody tr th {\n",
       "        vertical-align: top;\n",
       "    }\n",
       "\n",
       "    .dataframe thead th {\n",
       "        text-align: right;\n",
       "    }\n",
       "</style>\n",
       "<table border=\"1\" class=\"dataframe\">\n",
       "  <thead>\n",
       "    <tr style=\"text-align: right;\">\n",
       "      <th></th>\n",
       "      <th>name</th>\n",
       "      <th>admin unit</th>\n",
       "      <th>county</th>\n",
       "      <th>acres burned</th>\n",
       "      <th>lon</th>\n",
       "      <th>lat</th>\n",
       "      <th>date extinguished</th>\n",
       "      <th>date created</th>\n",
       "      <th>duration</th>\n",
       "    </tr>\n",
       "  </thead>\n",
       "  <tbody>\n",
       "    <tr>\n",
       "      <th>0</th>\n",
       "      <td>Bridge Fire</td>\n",
       "      <td>Shasta-Trinity National Forest</td>\n",
       "      <td>Shasta</td>\n",
       "      <td>37.0</td>\n",
       "      <td>-122.309000</td>\n",
       "      <td>40.774000</td>\n",
       "      <td>2018-01-09</td>\n",
       "      <td>2017-10-31</td>\n",
       "      <td>70 days</td>\n",
       "    </tr>\n",
       "    <tr>\n",
       "      <th>1</th>\n",
       "      <td>Pala Fire</td>\n",
       "      <td>CAL FIRE San Diego Unit</td>\n",
       "      <td>San Diego</td>\n",
       "      <td>122.0</td>\n",
       "      <td>1.000000</td>\n",
       "      <td>1.000000</td>\n",
       "      <td>2009-05-25</td>\n",
       "      <td>2009-05-24</td>\n",
       "      <td>1 days</td>\n",
       "    </tr>\n",
       "    <tr>\n",
       "      <th>2</th>\n",
       "      <td>River Fire</td>\n",
       "      <td>CAL FIRE San Bernardino Unit</td>\n",
       "      <td>Inyo</td>\n",
       "      <td>407.0</td>\n",
       "      <td>-118.016510</td>\n",
       "      <td>36.602575</td>\n",
       "      <td>2013-02-28</td>\n",
       "      <td>2013-02-24</td>\n",
       "      <td>4 days</td>\n",
       "    </tr>\n",
       "    <tr>\n",
       "      <th>3</th>\n",
       "      <td>Fawnskin Fire</td>\n",
       "      <td>San Bernardino National Forest</td>\n",
       "      <td>San Bernardino</td>\n",
       "      <td>30.0</td>\n",
       "      <td>-116.941311</td>\n",
       "      <td>34.288877</td>\n",
       "      <td>2013-04-22</td>\n",
       "      <td>2013-04-20</td>\n",
       "      <td>2 days</td>\n",
       "    </tr>\n",
       "    <tr>\n",
       "      <th>4</th>\n",
       "      <td>Gold Fire</td>\n",
       "      <td>CAL FIRE Madera-Mariposa-Merced Unit</td>\n",
       "      <td>Madera</td>\n",
       "      <td>274.0</td>\n",
       "      <td>-119.635004</td>\n",
       "      <td>37.116295</td>\n",
       "      <td>2013-05-01</td>\n",
       "      <td>2013-04-30</td>\n",
       "      <td>1 days</td>\n",
       "    </tr>\n",
       "  </tbody>\n",
       "</table>\n",
       "</div>"
      ],
      "text/plain": [
       "            name                            admin unit          county  \\\n",
       "0    Bridge Fire       Shasta-Trinity National Forest           Shasta   \n",
       "1      Pala Fire               CAL FIRE San Diego Unit       San Diego   \n",
       "2     River Fire          CAL FIRE San Bernardino Unit            Inyo   \n",
       "3  Fawnskin Fire        San Bernardino National Forest  San Bernardino   \n",
       "4      Gold Fire  CAL FIRE Madera-Mariposa-Merced Unit          Madera   \n",
       "\n",
       "   acres burned         lon        lat date extinguished date created duration  \n",
       "0          37.0 -122.309000  40.774000        2018-01-09   2017-10-31  70 days  \n",
       "1         122.0    1.000000   1.000000        2009-05-25   2009-05-24   1 days  \n",
       "2         407.0 -118.016510  36.602575        2013-02-28   2013-02-24   4 days  \n",
       "3          30.0 -116.941311  34.288877        2013-04-22   2013-04-20   2 days  \n",
       "4         274.0 -119.635004  37.116295        2013-05-01   2013-04-30   1 days  "
      ]
     },
     "execution_count": 33,
     "metadata": {},
     "output_type": "execute_result"
    }
   ],
   "source": [
    "#drop rows where county and acres burned columns are null\n",
    "fire_incidents = fire_incidents_df.dropna(subset=['acres burned','county'])\n",
    "\n",
    "#convert to datetime\n",
    "fire_incidents['date extinguished'] = pd.to_datetime(fire_incidents['date extinguished'])\n",
    "fire_incidents['date created'] = pd.to_datetime(fire_incidents['date created'])\n",
    "\n",
    "#calculate duration\n",
    "fire_incidents['duration'] = fire_incidents['date extinguished'] - fire_incidents['date created']\n",
    "\n",
    "fire_incidents.head()"
   ]
  },
  {
   "cell_type": "code",
   "execution_count": 34,
   "id": "d10682a4",
   "metadata": {},
   "outputs": [
    {
     "name": "stdout",
     "output_type": "stream",
     "text": [
      "<class 'pandas.core.frame.DataFrame'>\n",
      "Index: 2138 entries, 0 to 2197\n",
      "Data columns (total 9 columns):\n",
      " #   Column             Non-Null Count  Dtype          \n",
      "---  ------             --------------  -----          \n",
      " 0   name               2138 non-null   object         \n",
      " 1   admin unit         2127 non-null   object         \n",
      " 2   county             2138 non-null   object         \n",
      " 3   acres burned       2138 non-null   float64        \n",
      " 4   lon                2138 non-null   float64        \n",
      " 5   lat                2138 non-null   float64        \n",
      " 6   date extinguished  1943 non-null   datetime64[ns] \n",
      " 7   date created       2138 non-null   datetime64[ns] \n",
      " 8   duration           1943 non-null   timedelta64[ns]\n",
      "dtypes: datetime64[ns](2), float64(3), object(3), timedelta64[ns](1)\n",
      "memory usage: 167.0+ KB\n"
     ]
    }
   ],
   "source": [
    "fire_incidents.info()"
   ]
  },
  {
   "cell_type": "code",
   "execution_count": null,
   "id": "7fa9b9fc",
   "metadata": {},
   "outputs": [],
   "source": []
  },
  {
   "cell_type": "code",
   "execution_count": null,
   "id": "3663a613",
   "metadata": {},
   "outputs": [],
   "source": []
  }
 ],
 "metadata": {
  "kernelspec": {
   "display_name": "Python [conda env:dev] *",
   "language": "python",
   "name": "conda-env-dev-py"
  },
  "language_info": {
   "codemirror_mode": {
    "name": "ipython",
    "version": 3
   },
   "file_extension": ".py",
   "mimetype": "text/x-python",
   "name": "python",
   "nbconvert_exporter": "python",
   "pygments_lexer": "ipython3",
   "version": "3.10.13"
  }
 },
 "nbformat": 4,
 "nbformat_minor": 5
}
